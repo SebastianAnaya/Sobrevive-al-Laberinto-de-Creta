{
 "cells": [
  {
   "cell_type": "code",
   "execution_count": 14,
   "metadata": {
    "collapsed": false
   },
   "outputs": [],
   "source": [
    "!chmod 777 empaquetar.sh run utils/*"
   ]
  },
  {
   "cell_type": "markdown",
   "metadata": {},
   "source": [
    "<img src=\"files/banner.jpeg\" />"
   ]
  },
  {
   "cell_type": "markdown",
   "metadata": {},
   "source": [
    "# Sobrevive al laberinto de Creta\n",
    "**¿En qué consiste?**\n",
    "<li>El laberinto de Creta en la mitología griega fue un lugar donde Minos hizo encerrar al Minotauro, que era aplacado periódicamente con sacrificios humanos. En el centro del laberinto existe una compuerta que permite escapar por abajo del laberinto. ¿crees ser capaz de escapar del minotauro?</li>\n",
    "\n",
    "**Reglas del juego **\n",
    "<li>\tSe debe crear una cadena de caracteres con el alfabeto {w,a,s,d}, donde cada letra significa una dirección a seguir, así: </li>\n",
    "<li>-\tw: arriba</li>\n",
    "<li>-\ta: izquierda</li>\n",
    "<li>-\ts: abajo</li>\n",
    "<li>-\td: derecha </li>\n",
    "<li>\tEl trazado de la ruta de escape se hace desde un punto de vista por encima del mapa, esto significa que dentro del mapa podríamos estar girando hacia la derecha, pero desde nuestra vista estamos yendo hacia arriba en el cruce.</li>\n",
    "<li>\tLas subcadenas de caracteres de una misma dirección deben ser sintetizadas en un único carácter. Por ejemplo: la subcadena ‘aaa’ se resume en ‘a’.</li>\n"
   ]
  },
  {
   "cell_type": "markdown",
   "metadata": {},
   "source": [
    "# Esté es el laberinto de Creta \n",
    "\n",
    "<img src=\"files/labrinto.jpeg\" />\n",
    "\n",
    "Su punto de partida esta señalado por la flecha"
   ]
  },
  {
   "cell_type": "markdown",
   "metadata": {},
   "source": [
    "# Seccion de implementacion\n",
    "<li>Diagrama de estados</li>\n",
    "<img src=\"files/proyecto.png\" />"
   ]
  },
  {
   "cell_type": "code",
   "execution_count": 7,
   "metadata": {
    "collapsed": false
   },
   "outputs": [],
   "source": [
    "def LaberintoDeCreta(palabra):\n",
    "    from automatalib.fa.dfa import DFA\n",
    "    d = DFA(\n",
    "        states = {'q0','q1','q2','q3','q4','q5','q6','q7','q8','q9','q10','q11','q12','q13','q14','q15','q16','q17','q18','q19','q20',\n",
    "                  'q21','q22','q23','q24','q25','q26','q27','q28','q29','q30','q31','q32','q33','q34','q35','q36','q37','q38','q39','q40',\n",
    "                  'q41','q42','q43','q44','q45','q46','q47','q48','q49','q50','q51','q52','q53','q54','q55'},\n",
    "        input_symbols= {'w', 'a', 's', 'd'},\n",
    "        transitions= {\n",
    "            'q0':{'w':'q1'},\n",
    "            'q1':{'a':'q2'},\n",
    "            'q2':{'d':'q3'},\n",
    "            'q3':{'a':'q4'},\n",
    "            'q4':{'d':'q5'},\n",
    "            'q5':{'a':'q6'},\n",
    "            'q6':{'d':'q7'},\n",
    "            'q7':{'a':'q8'},\n",
    "            'q8':{'d':'q9'},\n",
    "            'q9':{'a':'q10'},\n",
    "            'q10':{'d':'q11'},\n",
    "            'q11':{'a':'q12'},\n",
    "            'q12':{'w':'q13'},\n",
    "            'q13':{'d':'q14'},\n",
    "            'q14':{'a':'q15'},\n",
    "            'q15':{'w':'q16'},\n",
    "            'q16':{'d':'q17'},\n",
    "            'q17':{'a':'q18'},\n",
    "            'q18':{'s':'q19'},\n",
    "            'q19':{'w':'q20'},\n",
    "            'q20':{'s':'q21'},\n",
    "            'q21':{'w':'q22'},\n",
    "            'q22':{'s':'q23'},\n",
    "            'q23':{'w':'q24'},\n",
    "            'q24':{'s':'q25'},\n",
    "            'q25':{'w':'q26'},\n",
    "            'q26':{'s':'q27'},\n",
    "            'q27':{'d':'q28'},\n",
    "            'q28':{'w':'q29'},\n",
    "            'q29':{'s':'q30'},\n",
    "            'q30':{'d':'q31'},\n",
    "            'q31':{'w':'q32'},\n",
    "            'q32':{'s':'q33'},\n",
    "            'q33':{'d':'q34'},\n",
    "            'q34':{'w':'q35'},\n",
    "            'q35':{'a':'q36'},\n",
    "            'q36':{'w':'q37'},\n",
    "            'q37':{'a':'q38'},\n",
    "            'q38':{'w':'q39'},\n",
    "            'q39':{'a':'q40'},\n",
    "            'q40':{'w':'q41'},\n",
    "            'q41':{'a':'q42'},\n",
    "            'q42':{'w':'q43'},\n",
    "            'q43':{'s':'q44'},\n",
    "            'q44':{'d':'q45'},\n",
    "            'q45':{'w':'q46'},\n",
    "            'q46':{'s':'q47'},\n",
    "            'q47':{'d':'q48'},\n",
    "            'q48':{'w':'q49'},\n",
    "            'q49':{'s':'q50'},\n",
    "            'q50':{'w':'q51'},\n",
    "            'q51':{'d':'q52'},\n",
    "            'q52':{'s':'q53'},\n",
    "            'q53':{'a':'q54'},\n",
    "            'q54':{'w':'q55'},\n",
    "            'q55':{}\n",
    "        },\n",
    "        initial_state = 'q0',\n",
    "        final_states={'q55'}\n",
    "    )\n",
    "    mensaje1 = 'Ha sobrevivido al minotauro y ha escapado del laberinto de Creta'\n",
    "    mensaje2 = 'Se ha perdido en el laberinto, y ha sido deborado por el minotauro :c'\n",
    "    if(d._validate_input_return_was_final_state(palabra) == False):\n",
    "        return mensaje2\n",
    "    else:\n",
    "        return mensaje1\n",
    "    "
   ]
  },
  {
   "cell_type": "code",
   "execution_count": 10,
   "metadata": {
    "collapsed": false
   },
   "outputs": [
    {
     "data": {
      "text/plain": [
       "'Ha sobrevivido al minotauro y ha escapado del laberinto de Creta'"
      ]
     },
     "execution_count": 10,
     "metadata": {},
     "output_type": "execute_result"
    }
   ],
   "source": [
    "LaberintoDeCreta('wadadadadadawdawdaswswswswsdwsdwsdwawawawawsdwsdwswdsaw')"
   ]
  },
  {
   "cell_type": "code",
   "execution_count": null,
   "metadata": {
    "collapsed": true
   },
   "outputs": [],
   "source": [
    "nombre"
   ]
  },
  {
   "cell_type": "code",
   "execution_count": null,
   "metadata": {
    "collapsed": true
   },
   "outputs": [],
   "source": [
    "!./empaquetar.sh $codigo"
   ]
  }
 ],
 "metadata": {
  "kernelspec": {
   "display_name": "Python 3",
   "language": "python",
   "name": "python3"
  },
  "language_info": {
   "codemirror_mode": {
    "name": "ipython",
    "version": 3
   },
   "file_extension": ".py",
   "mimetype": "text/x-python",
   "name": "python",
   "nbconvert_exporter": "python",
   "pygments_lexer": "ipython3",
   "version": "3.6.2"
  }
 },
 "nbformat": 4,
 "nbformat_minor": 0
}
